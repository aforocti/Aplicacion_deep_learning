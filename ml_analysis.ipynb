{
 "cells": [
  {
   "cell_type": "markdown",
   "metadata": {},
   "source": [
    "# Imports de las librerias usadas."
   ]
  },
  {
   "cell_type": "code",
   "execution_count": 34,
   "metadata": {},
   "outputs": [],
   "source": [
    "import pandas as pd\n",
    "import numpy as np\n",
    "import matplotlib.pyplot as plt\n",
    "from sklearn.preprocessing import StandardScaler\n",
    "from sklearn.preprocessing import MinMaxScaler\n",
    "from sklearn.preprocessing import RobustScaler\n",
    "from sklearn.decomposition import PCA\n",
    "from sklearn.model_selection import train_test_split\n",
    "from apyori import apriori"
   ]
  },
  {
   "cell_type": "markdown",
   "metadata": {},
   "source": [
    "# Leer datasets"
   ]
  },
  {
   "cell_type": "code",
   "execution_count": 9,
   "metadata": {},
   "outputs": [
    {
     "data": {
      "text/html": [
       "<div>\n",
       "<style scoped>\n",
       "    .dataframe tbody tr th:only-of-type {\n",
       "        vertical-align: middle;\n",
       "    }\n",
       "\n",
       "    .dataframe tbody tr th {\n",
       "        vertical-align: top;\n",
       "    }\n",
       "\n",
       "    .dataframe thead th {\n",
       "        text-align: right;\n",
       "    }\n",
       "</style>\n",
       "<table border=\"1\" class=\"dataframe\">\n",
       "  <thead>\n",
       "    <tr style=\"text-align: right;\">\n",
       "      <th></th>\n",
       "      <th>Date</th>\n",
       "      <th>Time</th>\n",
       "      <th>Username</th>\n",
       "      <th>Mac Address</th>\n",
       "      <th>Access Point</th>\n",
       "    </tr>\n",
       "  </thead>\n",
       "  <tbody>\n",
       "    <tr>\n",
       "      <th>0</th>\n",
       "      <td>17/10/2021</td>\n",
       "      <td>23:23:39</td>\n",
       "      <td>caril.martinez</td>\n",
       "      <td>9c:b6:d0:10:22:6d</td>\n",
       "      <td>Domo_Teleco2</td>\n",
       "    </tr>\n",
       "    <tr>\n",
       "      <th>1</th>\n",
       "      <td>17/10/2021</td>\n",
       "      <td>23:23:39</td>\n",
       "      <td>fernando.campana</td>\n",
       "      <td>ac:af:b9:33:65:e8</td>\n",
       "      <td>Domo_Teleco1</td>\n",
       "    </tr>\n",
       "    <tr>\n",
       "      <th>2</th>\n",
       "      <td>17/10/2021</td>\n",
       "      <td>23:24:10</td>\n",
       "      <td>caril.martinez</td>\n",
       "      <td>9c:b6:d0:10:22:6d</td>\n",
       "      <td>Domo_Teleco2</td>\n",
       "    </tr>\n",
       "    <tr>\n",
       "      <th>3</th>\n",
       "      <td>17/10/2021</td>\n",
       "      <td>23:24:10</td>\n",
       "      <td>fernando.campana</td>\n",
       "      <td>ac:af:b9:33:65:e8</td>\n",
       "      <td>Domo_Teleco1</td>\n",
       "    </tr>\n",
       "    <tr>\n",
       "      <th>4</th>\n",
       "      <td>17/10/2021</td>\n",
       "      <td>23:24:41</td>\n",
       "      <td>caril.martinez</td>\n",
       "      <td>9c:b6:d0:10:22:6d</td>\n",
       "      <td>Domo_Teleco2</td>\n",
       "    </tr>\n",
       "  </tbody>\n",
       "</table>\n",
       "</div>"
      ],
      "text/plain": [
       "         Date      Time          Username        Mac Address  Access Point\n",
       "0  17/10/2021  23:23:39    caril.martinez  9c:b6:d0:10:22:6d  Domo_Teleco2\n",
       "1  17/10/2021  23:23:39  fernando.campana  ac:af:b9:33:65:e8  Domo_Teleco1\n",
       "2  17/10/2021  23:24:10    caril.martinez  9c:b6:d0:10:22:6d  Domo_Teleco2\n",
       "3  17/10/2021  23:24:10  fernando.campana  ac:af:b9:33:65:e8  Domo_Teleco1\n",
       "4  17/10/2021  23:24:41    caril.martinez  9c:b6:d0:10:22:6d  Domo_Teleco2"
      ]
     },
     "execution_count": 9,
     "metadata": {},
     "output_type": "execute_result"
    }
   ],
   "source": [
    "dataframe = pd.read_csv(\"dataset.csv\")\n",
    "dataframe.head()    "
   ]
  },
  {
   "cell_type": "markdown",
   "metadata": {},
   "source": [
    "## Visualización\n",
    "Histograma de la cantidad de records con cada username encontrado en el dataset."
   ]
  },
  {
   "cell_type": "code",
   "execution_count": 48,
   "metadata": {},
   "outputs": [
    {
     "data": {
      "text/plain": [
       "Username\n",
       "CTI\\ivaleriano       AxesSubplot(0.125,0.125;0.775x0.755)\n",
       "caril.martinez       AxesSubplot(0.125,0.125;0.775x0.755)\n",
       "cti\\danny.torres     AxesSubplot(0.125,0.125;0.775x0.755)\n",
       "cti\\xavier.aizaga    AxesSubplot(0.125,0.125;0.775x0.755)\n",
       "fernando.campana     AxesSubplot(0.125,0.125;0.775x0.755)\n",
       "gjimenez             AxesSubplot(0.125,0.125;0.775x0.755)\n",
       "gonzalo.mendez       AxesSubplot(0.125,0.125;0.775x0.755)\n",
       "humberto.guale       AxesSubplot(0.125,0.125;0.775x0.755)\n",
       "ivaleriano           AxesSubplot(0.125,0.125;0.775x0.755)\n",
       "leonardo.eras        AxesSubplot(0.125,0.125;0.775x0.755)\n",
       "nelson.carrera       AxesSubplot(0.125,0.125;0.775x0.755)\n",
       "oscar.moreno         AxesSubplot(0.125,0.125;0.775x0.755)\n",
       "patricio.mendoza     AxesSubplot(0.125,0.125;0.775x0.755)\n",
       "xavier.aizaga        AxesSubplot(0.125,0.125;0.775x0.755)\n",
       "yandrade             AxesSubplot(0.125,0.125;0.775x0.755)\n",
       "Name: Username, dtype: object"
      ]
     },
     "execution_count": 48,
     "metadata": {},
     "output_type": "execute_result"
    },
    {
     "data": {
      "image/png": "[encoded data removed]",
      "text/plain": [
       "<Figure size 1440x576 with 1 Axes>"
      ]
     },
     "metadata": {
      "needs_background": "light"
     },
     "output_type": "display_data"
    }
   ],
   "source": [
    "dataframe.groupby(\"Username\")[\"Username\"].hist(figsize=(20,8),xlabelsize=8)"
   ]
  },
  {
   "cell_type": "markdown",
   "metadata": {},
   "source": [
    "# Algoritmo Apriori\n",
    "Este algoritmo fue desarrollado por R. Agrawal y R. Srikant en 1994 para poder encontrar conjuntos de item frecuentes dentro de un dataset para crear reglas de asociaciones. [1]\n",
    "\n",
    "Esta es una tecnica muy usada dentro de la mineria de datos para encontrar relaciones desconocidas, produciendo resultados que pueden ser usados en toma de decisiones o predicciones. Una de sus deventajas es el tiempo que toma en procesar toda la información del dataset.[2]\n",
    "\n",
    "Al finalizar el analisis se mostrara la siguiente información:\n",
    "\n",
    "```\n",
    "Rule: A -> B\n",
    "Support: 0.061261754770382544\n",
    "Confidence: 0.02017712042362823\n",
    "Lift: 8.885613845321796\n",
    "```\n",
    "\n",
    "Rule: Regla de asociación A -> B\n",
    "\n",
    "Support: Porcentaje de conjuntos donde la regla fue verdadera (Frecuencia donde A estaba asociada a B)\n",
    "\n",
    "Confidence: Porcentaje en el que la regla es verdadera, solo cuando el elemento A ocurre. (Que tan seguido A y B aparecen juntos basado en el numero de ocurrencias de A)\n",
    "\n",
    "Lift: Mide cuan mas frecuente A es encontrada con B en comparación a cuando no esta B."
   ]
  },
  {
   "cell_type": "markdown",
   "metadata": {},
   "source": [
    "## Creación de records para creación de modelo\n",
    "Para poder entrenar el modelo y obtener resultados debemos crear conjuntos de elementos que tendran esta asociacion implicita. Como nosotros queremos encontrar asociación entre la Mac Address y el Username de los clientes, dejamos estas dos columnas para su análisis. En caso de querer encontrar mas asociaciones podriamos dejar mas información como el AP al que esta conectado."
   ]
  },
  {
   "cell_type": "code",
   "execution_count": 36,
   "metadata": {},
   "outputs": [
    {
     "name": "stdout",
     "output_type": "stream",
     "text": [
      "[('caril.martinez', '9c:b6:d0:10:22:6d'), ('fernando.campana', 'ac:af:b9:33:65:e8'), ('caril.martinez', '9c:b6:d0:10:22:6d'), ('fernando.campana', 'ac:af:b9:33:65:e8'), ('caril.martinez', '9c:b6:d0:10:22:6d'), ('fernando.campana', 'ac:af:b9:33:65:e8'), ('caril.martinez', '9c:b6:d0:10:22:6d'), ('fernando.campana', 'ac:af:b9:33:65:e8'), ('caril.martinez', '9c:b6:d0:10:22:6d'), ('fernando.campana', 'ac:af:b9:33:65:e8'), ('caril.martinez', '9c:b6:d0:10:22:6d'), ('fernando.campana', 'ac:af:b9:33:65:e8'), ('caril.martinez', '9c:b6:d0:10:22:6d'), ('fernando.campana', 'ac:af:b9:33:65:e8'), ('caril.martinez', '9c:b6:d0:10:22:6d'), ('fernando.campana', 'ac:af:b9:33:65:e8'), ('caril.martinez', '9c:b6:d0:10:22:6d'), ('fernando.campana', 'ac:af:b9:33:65:e8'), ('caril.martinez', '9c:b6:d0:10:22:6d'), ('fernando.campana', 'ac:af:b9:33:65:e8'), ('caril.martinez', '9c:b6:d0:10:22:6d'), ('fernando.campana', 'ac:af:b9:33:65:e8'), ('caril.martinez', '9c:b6:d0:10:22:6d'), ('fernando.campana', 'ac:af:b9:33:65:e8'), ('caril.martinez', '9c:b6:d0:10:22:6d'), ('fernando.campana', 'ac:af:b9:33:65:e8'), ('caril.martinez', '9c:b6:d0:10:22:6d'), ('fernando.campana', 'ac:af:b9:33:65:e8'), ('caril.martinez', '9c:b6:d0:10:22:6d'), ('fernando.campana', 'ac:af:b9:33:65:e8')]\n"
     ]
    }
   ],
   "source": [
    "#df_train, df_test = train_test_split(dataframe, test_size=0.33, random_state=42)\n",
    "\n",
    "#df_train_user_mac = df_train.drop(columns=['Date','Time','Access Point'])\n",
    "#df_test_user_mac = df_test.drop(columns=['Date','Time','Access Point'])\n",
    " \n",
    "df_train_user_mac = dataframe.drop(columns=['Date','Time','Access Point'])\n",
    "\n",
    "records_train = df_train_user_mac.to_records(index=False)\n",
    "#records_test = df_test_user_mac.to_records(index=False)\n",
    "\n",
    "print(list(records_train)[:30])"
   ]
  },
  {
   "cell_type": "markdown",
   "metadata": {},
   "source": [
    "## Ejecución del algoritmo\n",
    "A partir de la información organizada ingresamos el algoritmo que ira aprendiendo y generando reglas de asociación para las instancias que encuentra. Luego recorremos estas reglas y las mostramos por consola."
   ]
  },
  {
   "cell_type": "code",
   "execution_count": 37,
   "metadata": {},
   "outputs": [
    {
     "name": "stdout",
     "output_type": "stream",
     "text": [
      "Rule: 04:1b:ba:7f:c9:27 -> ivaleriano\n",
      "Support: 0.061261754770382544\n",
      "Confidence: 1.0\n",
      "Lift: 8.885613845321796\n",
      "========================================\n",
      "Rule: gonzalo.mendez -> 0a:32:e1:06:a2:89\n",
      "Support: 0.021577041297665783\n",
      "Confidence: 1.0\n",
      "Lift: 19.72328931572629\n",
      "========================================\n",
      "Rule: humberto.guale -> 14:56:8e:f1:0a:79\n",
      "Support: 0.022916096046745184\n",
      "Confidence: 1.0\n",
      "Lift: 43.63745019920319\n",
      "========================================\n",
      "Rule: 30:07:4d:99:9d:38 -> gjimenez\n",
      "Support: 0.005477951246233908\n",
      "Confidence: 1.0\n",
      "Lift: 170.2538860103627\n",
      "========================================\n",
      "Rule: CTI\\ivaleriano -> 3c:91:80:2d:8c:b3\n",
      "Support: 0.024772512857968897\n",
      "Confidence: 0.7872340425531915\n",
      "Lift: 31.77852998065764\n",
      "========================================\n",
      "Rule: 4c:d1:a1:b4:60:2d -> nelson.carrera\n",
      "Support: 0.013268815240877689\n",
      "Confidence: 0.8952772073921971\n",
      "Lift: 67.47227926078028\n",
      "========================================\n",
      "Rule: 6a:3f:63:6d:5b:f9 -> xavier.aizaga\n",
      "Support: 0.028941842417602483\n",
      "Confidence: 1.0\n",
      "Lift: 29.001765225066194\n",
      "========================================\n",
      "Rule: 7a:50:6c:eb:e5:f9 -> gonzalo.mendez\n",
      "Support: 0.008947320368848717\n",
      "Confidence: 1.0\n",
      "Lift: 19.72328931572629\n",
      "========================================\n",
      "Rule: 9c:5a:81:cb:00:23 -> ivaleriano\n",
      "Support: 0.04236282297087556\n",
      "Confidence: 1.0\n",
      "Lift: 8.885613845321796\n",
      "========================================\n",
      "Rule: 9c:b6:d0:10:22:6d -> caril.martinez\n",
      "Support: 0.22398733984600872\n",
      "Confidence: 1.0\n",
      "Lift: 4.46453804347826\n",
      "========================================\n",
      "Rule: patricio.mendoza -> ac:29:3a:9e:d7:8f\n",
      "Support: 0.22791320490580969\n",
      "Confidence: 1.0\n",
      "Lift: 4.375948861366361\n",
      "========================================\n",
      "Rule: ac:af:b9:33:65:e8 -> fernando.campana\n",
      "Support: 0.22042667153595666\n",
      "Confidence: 1.0\n",
      "Lift: 4.536656081734088\n",
      "========================================\n",
      "Rule: b0:a4:60:23:02:d0 -> cti\\xavier.aizaga\n",
      "Support: 0.022429167047079947\n",
      "Confidence: 1.0\n",
      "Lift: 43.12204724409449\n",
      "========================================\n",
      "Rule: yandrade -> d8:c0:a6:fa:fd:d5\n",
      "Support: 0.005234486746401291\n",
      "Confidence: 1.0\n",
      "Lift: 191.0406976744186\n",
      "========================================\n",
      "Rule: e0:dc:ff:03:1a:bd -> oscar.moreno\n",
      "Support: 0.02909400772999787\n",
      "Confidence: 1.0\n",
      "Lift: 34.37133891213389\n",
      "========================================\n",
      "Rule: gonzalo.mendez -> f4:0f:24:1e:cd:c1\n",
      "Support: 0.02017712042362823\n",
      "Confidence: 1.0\n",
      "Lift: 19.72328931572629\n",
      "========================================\n"
     ]
    }
   ],
   "source": [
    "association_rules = apriori(records_train, min_support=0.0045,min_confidence=0.2,min_lift=3,min_length=2)\n",
    "association_results = list(association_rules)\n",
    "\n",
    "for item in association_results:\n",
    "    pair = item[0]\n",
    "    items = [x for x in pair]\n",
    "    print(\"Rule: \"+ items[0] + \" -> \"+items[1])\n",
    "    print(\"Support: \"+ str(item[1])) #Individual popularity (ItemA/TotalTransactions)\n",
    "    print(\"Confidence: \"+str(item[2][0][2])) #Item A Will include more profit for item B (Item (A+B)/Item (A))\n",
    "    print(\"Lift: \" + str(item[2][0][3])) #How much Item A includes profit in item B (Confidence/Support)\n",
    "    print(\"========================================\")"
   ]
  },
  {
   "cell_type": "markdown",
   "metadata": {},
   "source": [
    "## Resultados\n",
    "Como podemos observar en el punto anterior se han creado reglas de asociación que nos permite identificar una mac address con un nombre de usuario debido a su frecuencia en el dataset. Así mismo se nos muestra su soporte y confianza."
   ]
  },
  {
   "cell_type": "markdown",
   "metadata": {},
   "source": [
    "# Referencias\n",
    "[1] GeeksforGeeks. 2021. Apriori Algorithm - GeeksforGeeks. [online] Available at: <https://www.geeksforgeeks.org/apriori-algorithm/> [Accessed 3 November 2021].\n",
    "\n",
    "[2] M. Al-Maolegi en B. Arkok, “An improved Apriori algorithm for association rules”, arXiv preprint arXiv:1403. 3948, 2014. "
   ]
  }
 ],
 "metadata": {
  "interpreter": {
   "hash": "ae82abcaec5d3a885ee5184b58b216b9014770dad9ae0ca7c3cdab7f15bb0a76"
  },
  "kernelspec": {
   "display_name": "Python 3.9.5 64-bit",
   "name": "python3"
  },
  "language_info": {
   "codemirror_mode": {
    "name": "ipython",
    "version": 3
   },
   "file_extension": ".py",
   "mimetype": "text/x-python",
   "name": "python",
   "nbconvert_exporter": "python",
   "pygments_lexer": "ipython3",
   "version": "3.9.5"
  }
 },
 "nbformat": 4,
 "nbformat_minor": 5
}
